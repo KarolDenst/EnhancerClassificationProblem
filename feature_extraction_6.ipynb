{
 "cells": [
  {
   "cell_type": "code",
   "execution_count": 1,
   "metadata": {},
   "outputs": [],
   "source": [
    "import pandas as pd\n",
    "import numpy as np\n",
    "from sklearn.svm import SVC\n",
    "from sklearn.metrics import (\n",
    "    roc_auc_score,\n",
    "    accuracy_score,\n",
    "    precision_score,\n",
    "    recall_score,\n",
    "    f1_score,\n",
    "    confusion_matrix\n",
    ")\n",
    "from sklearn.model_selection import StratifiedKFold, cross_val_predict\n",
    "import random"
   ]
  },
  {
   "cell_type": "code",
   "execution_count": 2,
   "metadata": {},
   "outputs": [],
   "source": [
    "seq = \"agattgcaggcataagaaccaagcacagaccttccggcgacaataagcgataggattttgactggtagacagccgtactgtctttgtcaacacgtcaccttatcccaagtacttcagtagtttcaacgggactgcgtaaccgaccgtacactgactggtgaagacactattaggtcattgcgaacaacggaagatgcccacacatcaaaaggtttttttggactttagaatatccaaggtttattccccgaagatcgttctctgatgtgcctttaagagctgtactgctcggtatggaggagaaggaagtgtctattaactccctttgcccacgcatgataatgtgagtacagtacacccgaacggcctaagtcctcacattctctatcccgttactaaggcaaacgaagtctattcgggagcacaacaaccagctaacgctgaagcgaacccctacaaacgcaccgggctcttgatacggcggatggttcgccatggttgcggggattcaacagggacactatatggt\".upper()\n",
    "k = 6 # in (3,10)"
   ]
  },
  {
   "cell_type": "code",
   "execution_count": 3,
   "metadata": {},
   "outputs": [],
   "source": [
    "def count_kmeters(seq, k):\n",
    "    kmeters = {}\n",
    "    def construct(seq, n):\n",
    "        if n == 0:\n",
    "            kmeters[seq] = 0\n",
    "            return\n",
    "        for c in ['A', 'C', 'G', 'T']:\n",
    "            construct(seq + c, n - 1)\n",
    "    construct(\"\", k)\n",
    "        \n",
    "    for i in range(len(seq) - k):\n",
    "        kmeters[seq[i:i+k]] += 1\n",
    "\n",
    "    for k, v in kmeters.items():\n",
    "        kmeters[k] = v / (len(k))\n",
    "        \n",
    "    def get_complement(c):\n",
    "        if c == 'A':\n",
    "            return 'T'\n",
    "        if c == 'T':\n",
    "            return 'A'\n",
    "        if c == 'C':\n",
    "            return 'G'\n",
    "        if c == 'G':\n",
    "            return 'C'\n",
    "        return 'N'\n",
    "\n",
    "    def get_complement_str(s):\n",
    "        return \"\".join([get_complement(c) for c in s][::-1])\n",
    "\n",
    "    to_delete = set()\n",
    "    for k, v in kmeters.items():\n",
    "        if k in to_delete:\n",
    "            continue\n",
    "        c = get_complement_str(k)\n",
    "        if c in kmeters and c != k:\n",
    "            kmeters[k] += kmeters[c]\n",
    "            to_delete.add(c)\n",
    "            \n",
    "    for k in to_delete:\n",
    "        del kmeters[k]\n",
    "\n",
    "    return kmeters"
   ]
  },
  {
   "cell_type": "code",
   "execution_count": 4,
   "metadata": {},
   "outputs": [
    {
     "data": {
      "text/plain": [
       "2080"
      ]
     },
     "execution_count": 4,
     "metadata": {},
     "output_type": "execute_result"
    }
   ],
   "source": [
    "kmeters = count_kmeters(seq, k)\n",
    "len(kmeters)"
   ]
  },
  {
   "cell_type": "code",
   "execution_count": 5,
   "metadata": {},
   "outputs": [
    {
     "name": "stdout",
     "output_type": "stream",
     "text": [
      "4646 4302 2300 2002\n"
     ]
    }
   ],
   "source": [
    "df = pd.read_csv(\"data/experiments.tsv\", sep=\"\\t\")\n",
    "data = df[(df[\"curation_status\"] == \"positive\") | (df[\"curation_status\"] == \"negative\")]\n",
    "data = data.sample(frac=1).reset_index(drop=True)\n",
    "data = data.loc[data['seq'].apply(lambda x: isinstance(x, str))]\n",
    "data[\"seq\"] = data[\"seq\"].apply(lambda x: x.upper())\n",
    "data = data.loc[data['seq'].apply(lambda x: set(x).issubset(set(\"ATCG\")))]\n",
    "pos_data = data[data[\"curation_status\"] == \"positive\"]\n",
    "neg_data = data[data[\"curation_status\"] == \"negative\"]\n",
    "print(len(df), len(data), len(pos_data), len(neg_data))"
   ]
  },
  {
   "cell_type": "markdown",
   "metadata": {},
   "source": [
    "Negative data V2"
   ]
  },
  {
   "cell_type": "code",
   "execution_count": 6,
   "metadata": {},
   "outputs": [
    {
     "data": {
      "text/plain": [
       "2245"
      ]
     },
     "execution_count": 6,
     "metadata": {},
     "output_type": "execute_result"
    }
   ],
   "source": [
    "length = int(np.mean([len(x) for x in data[\"seq\"]]))\n",
    "num_samples = len(neg_data)\n",
    "length"
   ]
  },
  {
   "cell_type": "code",
   "execution_count": 7,
   "metadata": {},
   "outputs": [],
   "source": [
    "def sample_from_fasta(file_path, num_samples, length):\n",
    "    sampled_sequences = []\n",
    "    current_sequence = \"\"\n",
    "    \n",
    "    with open(file_path, 'r') as file:\n",
    "        for line in file:\n",
    "            if line.startswith('>'):\n",
    "                current_sequence = \"\"\n",
    "                continue\n",
    "            \n",
    "            line = line.strip()\n",
    "            if set(line) - {'A', 'C', 'T', 'G'}:\n",
    "                current_sequence = \"\"\n",
    "                continue\n",
    "            \n",
    "            current_sequence += line\n",
    "            while len(current_sequence) >= length and len(sampled_sequences) < num_samples:\n",
    "                start = random.randint(0, len(current_sequence) - length)\n",
    "                sampled_sequences.append(current_sequence[start:start + length])\n",
    "                current_sequence = current_sequence[start + length:]\n",
    "            \n",
    "            if len(sampled_sequences) >= num_samples:\n",
    "                break\n",
    "\n",
    "    return sampled_sequences"
   ]
  },
  {
   "cell_type": "code",
   "execution_count": 8,
   "metadata": {},
   "outputs": [],
   "source": [
    "sampled_sequences = sample_from_fasta(\"data/GRCh38.p14.genome.fa\", num_samples, length)"
   ]
  },
  {
   "cell_type": "code",
   "execution_count": 9,
   "metadata": {},
   "outputs": [],
   "source": [
    "with open(\"data/negative.txt\", \"w\") as file:\n",
    "    file.write(\"\\n\".join(sampled_sequences))"
   ]
  },
  {
   "cell_type": "code",
   "execution_count": 10,
   "metadata": {},
   "outputs": [
    {
     "name": "stdout",
     "output_type": "stream",
     "text": [
      "2002 2002\n"
     ]
    }
   ],
   "source": [
    "print(len(sampled_sequences), len(neg_data))"
   ]
  },
  {
   "cell_type": "code",
   "execution_count": 11,
   "metadata": {},
   "outputs": [],
   "source": [
    "X = np.concatenate([\n",
    "    pos_data[\"seq\"].values,\n",
    "    neg_data[\"seq\"].values\n",
    "])\n",
    "X = [count_kmeters(x, k) for x in X]\n",
    "X = [list(x.values()) for x in X]\n",
    "y = [1] * len(pos_data) + [0] * len(neg_data)"
   ]
  },
  {
   "cell_type": "code",
   "execution_count": 12,
   "metadata": {},
   "outputs": [],
   "source": [
    "X2 = np.concatenate([\n",
    "    pos_data[\"seq\"].values,\n",
    "    sampled_sequences\n",
    "])\n",
    "X2 = [count_kmeters(x, k) for x in X2]\n",
    "X2 = [list(x.values()) for x in X2]\n",
    "y2 = [1] * len(pos_data) + [0] * len(neg_data)"
   ]
  },
  {
   "cell_type": "markdown",
   "metadata": {},
   "source": [
    "# Model"
   ]
  },
  {
   "cell_type": "code",
   "execution_count": 13,
   "metadata": {},
   "outputs": [],
   "source": [
    "def score(X, y):\n",
    "    svc = SVC(probability=True)\n",
    "    cv = StratifiedKFold(n_splits=10, shuffle=True, random_state=42)\n",
    "    y_pred_prob = cross_val_predict(svc, X, y, cv=cv, method='predict_proba')[:, 1]\n",
    "    y_pred = cross_val_predict(svc, X, y, cv=cv)\n",
    "\n",
    "    auc = roc_auc_score(y, y_pred_prob)\n",
    "    accuracy = accuracy_score(y, y_pred)\n",
    "    precision = precision_score(y, y_pred)\n",
    "    recall = recall_score(y, y_pred)\n",
    "    f1 = f1_score(y, y_pred)\n",
    "    conf_matrix = confusion_matrix(y, y_pred)\n",
    "\n",
    "    print(f\"AUC-ROC: {auc:.4f}\")\n",
    "    print(f\"Accuracy: {accuracy:.4f}\")\n",
    "    print(f\"Precision: {precision:.4f}\")\n",
    "    print(f\"Recall: {recall:.4f}\")\n",
    "    print(f\"F1-Score: {f1:.4f}\")\n",
    "    print(\"Confusion Matrix:\")\n",
    "    print(conf_matrix)"
   ]
  },
  {
   "cell_type": "code",
   "execution_count": 14,
   "metadata": {},
   "outputs": [
    {
     "name": "stdout",
     "output_type": "stream",
     "text": [
      "AUC-ROC: 0.6752\n",
      "Accuracy: 0.6288\n",
      "Precision: 0.6351\n",
      "Recall: 0.7183\n",
      "F1-Score: 0.6741\n",
      "Confusion Matrix:\n",
      "[[1053  949]\n",
      " [ 648 1652]]\n"
     ]
    }
   ],
   "source": [
    "score(X, y)"
   ]
  },
  {
   "cell_type": "code",
   "execution_count": 15,
   "metadata": {},
   "outputs": [
    {
     "name": "stdout",
     "output_type": "stream",
     "text": [
      "AUC-ROC: 0.9896\n",
      "Accuracy: 0.9519\n",
      "Precision: 0.9584\n",
      "Recall: 0.9513\n",
      "F1-Score: 0.9548\n",
      "Confusion Matrix:\n",
      "[[1907   95]\n",
      " [ 112 2188]]\n"
     ]
    }
   ],
   "source": [
    "score(X2, y2)"
   ]
  },
  {
   "cell_type": "code",
   "execution_count": 16,
   "metadata": {},
   "outputs": [
    {
     "name": "stdout",
     "output_type": "stream",
     "text": [
      "4302 4302\n",
      "4302 4302\n"
     ]
    }
   ],
   "source": [
    "print(len(X), len(y))\n",
    "print(len(X2), len(y2))"
   ]
  }
 ],
 "metadata": {
  "kernelspec": {
   "display_name": "Python 3",
   "language": "python",
   "name": "python3"
  },
  "language_info": {
   "codemirror_mode": {
    "name": "ipython",
    "version": 3
   },
   "file_extension": ".py",
   "mimetype": "text/x-python",
   "name": "python",
   "nbconvert_exporter": "python",
   "pygments_lexer": "ipython3",
   "version": "3.12.4"
  }
 },
 "nbformat": 4,
 "nbformat_minor": 2
}
